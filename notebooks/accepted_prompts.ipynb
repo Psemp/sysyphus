{
 "cells": [
  {
   "cell_type": "markdown",
   "metadata": {},
   "source": [
    "# To get the accepted types and countries :\n",
    "- You can : Run this notebook and use the function to filter by starting letter (or digit)\n",
    "- Check these jsons for COUNTRY and TYPE and hammer cmd/ctr + f"
   ]
  },
  {
   "cell_type": "code",
   "execution_count": 1,
   "metadata": {},
   "outputs": [],
   "source": [
    "import sysyphus\n",
    "import pandas as pd"
   ]
  },
  {
   "cell_type": "code",
   "execution_count": 2,
   "metadata": {},
   "outputs": [
    {
     "name": "stdout",
     "output_type": "stream",
     "text": [
      "cnx: OK\n",
      "remote content: Loaded\n"
     ]
    }
   ],
   "source": [
    "# Loading the boulder object to get its dataframe containing the types and countries :\n",
    "boulder = sysyphus.Boulder()\n"
   ]
  },
  {
   "cell_type": "code",
   "execution_count": 3,
   "metadata": {},
   "outputs": [],
   "source": [
    "def search_first_letter(df: pd.DataFrame, letters: str, column: str) -> pd.DataFrame:\n",
    "    \"Returns the data frame containing the rows where the first letter of the column is in the letters string\"\n",
    "    letters = letters.lower()\n",
    "    uniques = df[df[column].notna()][column].unique().tolist()\n",
    "    return [unique for unique in uniques if unique is not None and unique.lower().startswith(letters)]\n"
   ]
  },
  {
   "cell_type": "markdown",
   "metadata": {},
   "source": [
    "# The unique types and countries can be accessed like so :\n",
    "(its kind of impractical due to the amount of uniques, hopefully the function above will make the exploration easier)"
   ]
  },
  {
   "cell_type": "code",
   "execution_count": 4,
   "metadata": {},
   "outputs": [
    {
     "data": {
      "text/plain": [
       "['H5', 'H5/6', 'H5-6', 'H5-an', 'H5-melt breccia', 'H5-7']"
      ]
     },
     "execution_count": 4,
     "metadata": {},
     "output_type": "execute_result"
    }
   ],
   "source": [
    "# Search the h5s\n",
    "search_first_letter(boulder.sy_df, \"h5\", \"type\")"
   ]
  },
  {
   "cell_type": "code",
   "execution_count": 5,
   "metadata": {},
   "outputs": [
    {
     "data": {
      "text/plain": [
       "['Algeria',\n",
       " 'Argentina',\n",
       " 'Australia',\n",
       " 'Antarctica',\n",
       " 'Angola',\n",
       " 'Armenia',\n",
       " 'Azerbaijan',\n",
       " 'Austria',\n",
       " 'Afghanistan',\n",
       " 'Australia?']"
      ]
     },
     "execution_count": 5,
     "metadata": {},
     "output_type": "execute_result"
    }
   ],
   "source": [
    "# For the countries :\n",
    "search_first_letter(boulder.sy_df, \"a\", \"country\")\n"
   ]
  },
  {
   "cell_type": "markdown",
   "metadata": {},
   "source": [
    "So you can clone this notebook, replace the fields by what you want to verify and it should be totally compatible"
   ]
  }
 ],
 "metadata": {
  "kernelspec": {
   "display_name": "env",
   "language": "python",
   "name": "python3"
  },
  "language_info": {
   "codemirror_mode": {
    "name": "ipython",
    "version": 3
   },
   "file_extension": ".py",
   "mimetype": "text/x-python",
   "name": "python",
   "nbconvert_exporter": "python",
   "pygments_lexer": "ipython3",
   "version": "3.10.4"
  }
 },
 "nbformat": 4,
 "nbformat_minor": 2
}
